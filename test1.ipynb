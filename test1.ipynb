{
 "cells": [
  {
   "cell_type": "code",
   "execution_count": 3,
   "metadata": {},
   "outputs": [],
   "source": [
    "import pandas as pd\n",
    "import numpy as np\n",
    "from astropy.time import Time"
   ]
  },
  {
   "cell_type": "code",
   "execution_count": 4,
   "metadata": {},
   "outputs": [],
   "source": [
    "from alerce.api import AlerceAPI\n",
    "client = AlerceAPI()"
   ]
  },
  {
   "cell_type": "code",
   "execution_count": 5,
   "metadata": {},
   "outputs": [],
   "source": [
    "tns=pd.read_csv('tns_d.csv') #Fron 10/12/19 to 31/5/20"
   ]
  },
  {
   "cell_type": "code",
   "execution_count": 6,
   "metadata": {},
   "outputs": [],
   "source": [
    "#/////////MATCH X COORD\n",
    "def tnsxmatch (snlist):\n",
    "    tnsxm=pd.DataFrame()\n",
    "    tol=5*0.00027777777777778\n",
    "    for oid, ob in snlist.iterrows():\n",
    "        xde=tns[(np.isclose(tns.dec, ob.meandec, atol=tol,rtol=0.0))]\n",
    "        mx=xde[np.isclose(xde.ra,ob.meanra,atol=tol,rtol=0.0)]\n",
    "        if mx.shape[0]!=0:\n",
    "            if mx.shape[0]>1:   #select nearest if there's more than 1 match\n",
    "                m=np.full(mx.shape[0],False)\n",
    "                m[((mx.dec- ob.meandec)**2+(mx.ra- ob.meanra)**2).argmin()]=True\n",
    "                mx=mx[m]\n",
    "            mx['oid']=oid\n",
    "            if len(tnsxm)>0 and mx.index[0] in tnsxm.index:\n",
    "                if mx['Disc. Internal Name'].values[0]==oid:\n",
    "                    tnsxm['oid']=tnsxm['oid'].replace(tnsxm[tnsxm['Disc. Internal Name']==oid]['oid'],oid)\n",
    "                continue\n",
    "            tnsxm=tnsxm.append(mx)\n",
    "     \n",
    "    print(len(tnsxm))\n",
    "    return(tnsxm)"
   ]
  },
  {
   "cell_type": "code",
   "execution_count": 7,
   "metadata": {},
   "outputs": [],
   "source": [
    "#/////////// ALeRCE objecst classified as SN by stamp classifier\n",
    "records_per_page = 100000\n",
    "min_nobs = 10\n",
    "max_nobs = 50\n",
    "min_firstmjd = 58828 \n",
    "max_firstmjd=59000.863 #may 31\n",
    "classearly=19 \n",
    "params = {\n",
    "    \"records_per_pages\": records_per_page,\n",
    "    \"page\": 1,\n",
    "    #\"sortBy\": sortBy,\n",
    "    \"query_parameters\": {\n",
    "        \"filters\": {\n",
    "            #\"classrf\": 10,\n",
    "            \"classearly\":classearly,\n",
    "            \"nobs\": {\n",
    "                #\"min\": min_nobs,\n",
    "                #\"max\": max_nobs\n",
    "            }\n",
    "        },\n",
    "            \"dates\": {\n",
    "                \"firstmjd\": {\n",
    "                    \"min\": min_firstmjd,\n",
    "                    \"max\": max_firstmjd\n",
    "                }\n",
    "            }\n",
    "    }\n",
    "}"
   ]
  },
  {
   "cell_type": "code",
   "execution_count": 8,
   "metadata": {},
   "outputs": [
    {
     "name": "stdout",
     "output_type": "stream",
     "text": [
      "(79542, 43)\n"
     ]
    }
   ],
   "source": [
    "SNe = client.query(params, format='pandas')\n",
    "print(SNe.shape)"
   ]
  },
  {
   "cell_type": "code",
   "execution_count": 9,
   "metadata": {},
   "outputs": [
    {
     "name": "stderr",
     "output_type": "stream",
     "text": [
      "/home/emilio/.local/lib/python3.6/site-packages/ipykernel_launcher.py:13: SettingWithCopyWarning: \n",
      "A value is trying to be set on a copy of a slice from a DataFrame.\n",
      "Try using .loc[row_indexer,col_indexer] = value instead\n",
      "\n",
      "See the caveats in the documentation: https://pandas.pydata.org/pandas-docs/stable/user_guide/indexing.html#returning-a-view-versus-a-copy\n",
      "  del sys.path[0]\n"
     ]
    },
    {
     "name": "stdout",
     "output_type": "stream",
     "text": [
      "3830\n"
     ]
    }
   ],
   "source": [
    "tnsxm=tnsxmatch(SNe)"
   ]
  },
  {
   "cell_type": "code",
   "execution_count": 10,
   "metadata": {},
   "outputs": [
    {
     "name": "stdout",
     "output_type": "stream",
     "text": [
      "79542 objects classified as SN by stamp classifier\n",
      "3830 reported to TNS\n",
      "1733 reported to TNS by ALeRCE, 45.24804177545692 %\n",
      "1657 reported by other group from ZTF data\n"
     ]
    }
   ],
   "source": [
    "repbyalerce=sum(['ALeRCE' in s for s in tnsxm['Reporting Group/s'].values])\n",
    "repbyZTF=sum(['ZTF' in s for s in tnsxm['Discovery Data Source/s'].values])\n",
    "\n",
    "print(len(SNe),'objects classified as SN by stamp classifier')\n",
    "print(len(tnsxm), 'reported to TNS')\n",
    "print(repbyalerce,'reported to TNS by ALeRCE,',repbyalerce*100/len(tnsxm),'%')\n",
    "print(repbyZTF-repbyalerce,'reported by other group from ZTF data')"
   ]
  },
  {
   "cell_type": "code",
   "execution_count": 11,
   "metadata": {},
   "outputs": [
    {
     "name": "stdout",
     "output_type": "stream",
     "text": [
      "10031 objects total reported to tns in the span of time\n",
      "4726 fron ZTF data\n",
      "1752 reported by ALeRCE\n"
     ]
    }
   ],
   "source": [
    "#objects reported with ZTF data\n",
    "tns_ztf=tns[[(('ZTF' in s)if str(s) != 'nan' else False )for s in tns['Discovery Data Source/s'].values]]\n",
    "ztfrepbyalerce=sum(['ALeRCE' in s for s in tns_ztf['Reporting Group/s'].values])\n",
    "print(len(tns),'objects total reported to tns in the span of time')\n",
    "print(len(tns_ztf), 'fron ZTF data')\n",
    "print(ztfrepbyalerce,'reported by ALeRCE')"
   ]
  },
  {
   "cell_type": "code",
   "execution_count": null,
   "metadata": {},
   "outputs": [],
   "source": []
  }
 ],
 "metadata": {
  "kernelspec": {
   "display_name": "Python 3",
   "language": "python",
   "name": "python3"
  },
  "language_info": {
   "codemirror_mode": {
    "name": "ipython",
    "version": 3
   },
   "file_extension": ".py",
   "mimetype": "text/x-python",
   "name": "python",
   "nbconvert_exporter": "python",
   "pygments_lexer": "ipython3",
   "version": "3.6.9"
  }
 },
 "nbformat": 4,
 "nbformat_minor": 2
}
